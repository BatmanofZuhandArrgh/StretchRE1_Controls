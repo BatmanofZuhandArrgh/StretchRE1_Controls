{
 "cells": [
  {
   "cell_type": "code",
   "execution_count": 1,
   "id": "f19636bf",
   "metadata": {},
   "outputs": [
    {
     "name": "stdout",
     "output_type": "stream",
     "text": [
      "Environment Ready\n"
     ]
    }
   ],
   "source": [
    "import stretch_body.robot\n",
    "import time\n",
    "import stretch_body.stretch_gripper \n",
    "import stretch_body.wrist_yaw\n",
    "#import mpldatacursor\n",
    "print(\"Environment Ready\")"
   ]
  },
  {
   "cell_type": "code",
   "execution_count": 3,
   "id": "45cf5388",
   "metadata": {},
   "outputs": [],
   "source": [
    "robot=stretch_body.robot.Robot()\n",
    "robot.startup()\n",
    "# robot.home()\n",
    "# robot.stow() # our home function\n",
    "\n",
    "# wrist = stretch_body.wrist_yaw.WristYaw()\n",
    "# wrist.pose('side')\n",
    "# robot.head.move_to('head_tilt', x_r=0.6)      #rotate the camera\n",
    "\n",
    "# robot.base.translate_by(0.2) # base movement \n",
    "# robot.push_command()\n",
    "# time.sleep(2.0) \n",
    "\n",
    "# robot.base.set_rotational_velocity(v_r=0.4) #switch to velocity controller\n",
    "# robot.push_command()\n",
    "# time.sleep(4.0) #wait\n",
    "\n",
    "# robot.arm.home()\n",
    "# robot.lift.home()\n",
    "# robot.gripper.home()\n",
    "\n",
    "robot.base.translate_by(-0.3) # base movement \n",
    "robot.push_command()\n",
    "\n",
    "# time.sleep(10.0)\n",
    "# robot.arm.move_by(-0.2)\n",
    "# robot.push_command()\n",
    "time.sleep(2.0)\n",
    "\n",
    "# robot.lift.move_by(-0.1)\n",
    "# robot.push_command()\n",
    "# time.sleep(2.0)\n",
    "\n",
    "robot.stop()"
   ]
  },
  {
   "cell_type": "code",
   "execution_count": 2,
   "id": "181c8f1b",
   "metadata": {},
   "outputs": [
    {
     "name": "stdout",
     "output_type": "stream",
     "text": [
      "Moving to first hardstop...\n",
      "First hardstop contact at position (ticks): 0\n",
      "-----\n",
      "Homing offset was 4512\n",
      "Marking current position to zero ticks\n",
      "Homing offset is now  4503 (ticks)\n",
      "-----\n",
      "Current position (ticks): 66\n",
      "Moving to calibrated zero: (rad)\n"
     ]
    }
   ],
   "source": [
    "gripper = stretch_body.stretch_gripper.StretchGripper()\n",
    "gripper.startup()\n",
    "gripper.home()\n",
    "# time.sleep(4.0)\n",
    "# gripper.pose('close')\n",
    "# time.sleep(4.0)\n",
    "gripper.move_by(50)\n",
    "time.sleep(4.0)\n",
    "\n",
    "# gripper.stop()"
   ]
  },
  {
   "cell_type": "code",
   "execution_count": 16,
   "id": "b0332e9d",
   "metadata": {},
   "outputs": [],
   "source": [
    "wrist = stretch_body.wrist_yaw.WristYaw()\n",
    "wrist.startup()\n",
    "# wrist.home()\n",
    "# time.sleep(4.0)\n",
    "wrist.pose('side')\n",
    "time.sleep(4.0)\n",
    "wrist.stop()"
   ]
  },
  {
   "cell_type": "code",
   "execution_count": null,
   "id": "8f8cabc1",
   "metadata": {},
   "outputs": [],
   "source": []
  }
 ],
 "metadata": {
  "kernelspec": {
   "display_name": "Python [conda env:RE1] *",
   "language": "python",
   "name": "conda-env-RE1-py"
  },
  "language_info": {
   "codemirror_mode": {
    "name": "ipython",
    "version": 3
   },
   "file_extension": ".py",
   "mimetype": "text/x-python",
   "name": "python",
   "nbconvert_exporter": "python",
   "pygments_lexer": "ipython3",
   "version": "3.8.13"
  }
 },
 "nbformat": 4,
 "nbformat_minor": 5
}
