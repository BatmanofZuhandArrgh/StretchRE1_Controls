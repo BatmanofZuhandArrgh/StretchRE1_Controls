{
 "cells": [
  {
   "cell_type": "code",
   "execution_count": 1,
   "metadata": {},
   "outputs": [],
   "source": [
    "%load_ext autoreload\n",
    "%autoreload 2 \n",
    "\n",
    "\n",
    "import numpy as np\n",
    "%matplotlib inline\n"
   ]
  },
  {
   "cell_type": "code",
   "execution_count": 2,
   "metadata": {},
   "outputs": [],
   "source": [
    "# from re1_utils.camera import get_rs_extrinsic_mat\n",
    "# extrinsic_mat = get_rs_extrinsic_mat(type = 'cam2base')\n",
    "# from re1_utils.camera import get_rs_intrinsic_mat\n",
    "# intrinsic_mat = get_rs_intrinsic_mat()\n",
    "# print(intrinsic_mat)\n",
    "# inv_intrinsic_mat = np.linalg.inv(intrinsic_mat)\n",
    "# print(inv_intrinsic_mat)\n",
    "# from re1_utils.camera import get_rs_extrinsic_mat\n",
    "# inv_extrinsic_mat = get_rs_extrinsic_mat(type = 'cam2base')\n",
    "# print(inv_extrinsic_mat)\n"
   ]
  },
  {
   "cell_type": "code",
   "execution_count": 3,
   "metadata": {},
   "outputs": [
    {
     "name": "stdout",
     "output_type": "stream",
     "text": [
      "[[ 0.99369596  0.10869744 -0.02744456  0.        ]\n",
      " [-0.10865601  0.99407488  0.00300093  0.        ]\n",
      " [ 0.02760815  0.          0.99961882  1.28575359]\n",
      " [ 0.          0.          0.          1.        ]]\n"
     ]
    }
   ],
   "source": [
    "from re1_utils.math_utils import get_rotation_mat\n",
    "inv_intrinsic_mat = np.array(\n",
    "[[ 0.00164891,  0.,         -0.53420447,],\n",
    " [ 0.        ,  0.00164907, -0.38722027,],\n",
    " [ 0.        ,  0.,          1.,        ]]\n",
    ")\n",
    "height = 1.28575359\n",
    "head_pan = 0.10891263593988053\n",
    "head_tilt = 0.027611654181941538\n",
    "inv_extrinsic_mat = get_rotation_mat(x_angle=0, y_angle=-head_tilt, z_angle=-head_pan)\n",
    "inv_extrinsic_mat = np.concatenate((inv_extrinsic_mat, np.array([0,0,height]).reshape(3,1)), axis=1)\n",
    "inv_extrinsic_mat = np.concatenate((inv_extrinsic_mat, np.array([0,0,0,1]).reshape(1,4)), axis=0)\n",
    "print(inv_extrinsic_mat)\n"
   ]
  },
  {
   "cell_type": "code",
   "execution_count": 6,
   "metadata": {},
   "outputs": [],
   "source": [
    "import sys\n",
    "sys.path.append('./yolov7/')\n",
    "\n",
    "from POI.object_of_interest import OOI\n",
    "pred =np.array(\n",
    "[[         70,         479,         116,         628,     0.89845,          39],\n",
    " [        199,         492,         249,         633,     0.87461,          39],\n",
    " [        218,         256,         258,         367,     0.34034,          39]]\n",
    ")\n",
    "depths = [1.2018723487854004, 1.1422603130340576, 1.3461313247680664]\n",
    "all_objects = []\n",
    "for i in range(pred.shape[0]):\n",
    "    coord = pred[i, :]\n",
    "    obj = OOI(\n",
    "        img_coord = np.array([(coord[2]+coord[0])/2,(coord[3]+coord[1])/2]), \n",
    "        depth = depths[i],\n",
    "        obj_class = int(coord[-1]),\n",
    "        obj_atributes = 'None', \n",
    "        bbox = ((coord[0],coord[1]),(coord[2],coord[3])),\n",
    "        conf_score = coord[4],\n",
    "        eid = i\n",
    "    )\n",
    "    all_objects.append(obj)"
   ]
  },
  {
   "cell_type": "code",
   "execution_count": 7,
   "metadata": {},
   "outputs": [],
   "source": [
    "landmarks = {'locations': {}, 'objects': {}}\n",
    "for i, object in enumerate(all_objects):\n",
    "    landmarks['objects'][i] = object\n",
    "    landmarks['objects'][i].set_cam_coord(inv_intrinsic_mat)\n",
    "    landmarks['objects'][i].set_world_coord(inv_extrinsic_mat)"
   ]
  },
  {
   "cell_type": "code",
   "execution_count": 8,
   "metadata": {},
   "outputs": [
    {
     "name": "stdout",
     "output_type": "stream",
     "text": [
      "bottle [         93       553.5]\n",
      "[   -0.47062    -0.28107      1.2019]\n",
      "[     1.2019     0.28107    -0.47062] [     1.2378      0.1474     0.84849]\n",
      "bottle [        224       562.5]\n",
      "[   -0.46423   -0.020365      1.1423]\n",
      "[     1.1423    0.020365    -0.46423] [       1.15    -0.10526     0.85324]\n",
      "bottle [        238       311.5]\n",
      "[   0.010045   0.0070785      1.3461]\n",
      "[     1.3461  -0.0070785    0.010045] [     1.3366    -0.15327       1.333]\n"
     ]
    }
   ],
   "source": [
    "for i, object in enumerate(all_objects):\n",
    "    print(landmarks['objects'][i].obj_name, landmarks['objects'][i].img_coord[:-1])\n",
    "    print(landmarks['objects'][i].temp_cam_coord)\n",
    "    print(landmarks['objects'][i].cam_coord,landmarks['objects'][i].base_coord)\n",
    "    "
   ]
  },
  {
   "cell_type": "code",
   "execution_count": 11,
   "metadata": {},
   "outputs": [],
   "source": [
    "from POI.viz_coord import Visualizer\n",
    "viz = Visualizer(landmark_dict=landmarks)"
   ]
  },
  {
   "cell_type": "code",
   "execution_count": 13,
   "metadata": {},
   "outputs": [
    {
     "data": {
      "image/png": "[encoded data removed]",
      "text/plain": [
       "<PIL.Image.Image image mode=RGB size=360x640>"
      ]
     },
     "metadata": {},
     "output_type": "display_data"
    }
   ],
   "source": [
    "viz.viz_cam()\n"
   ]
  },
  {
   "cell_type": "code",
   "execution_count": 14,
   "metadata": {},
   "outputs": [
    {
     "data": {
      "image/png": "[encoded data removed]",
      "text/plain": [
       "<PIL.Image.Image image mode=RGB size=360x640>"
      ]
     },
     "metadata": {},
     "output_type": "display_data"
    }
   ],
   "source": [
    "viz.viz_base(coord_type='yz')"
   ]
  },
  {
   "cell_type": "code",
   "execution_count": 15,
   "metadata": {},
   "outputs": [
    {
     "data": {
      "image/png": "[encoded data removed]",
      "text/plain": [
       "<PIL.Image.Image image mode=RGB size=360x640>"
      ]
     },
     "metadata": {},
     "output_type": "display_data"
    }
   ],
   "source": [
    "viz.viz_base(coord_type='xy')"
   ]
  },
  {
   "cell_type": "code",
   "execution_count": null,
   "metadata": {},
   "outputs": [],
   "source": []
  }
 ],
 "metadata": {
  "kernelspec": {
   "display_name": "RE1",
   "language": "python",
   "name": "re1"
  },
  "language_info": {
   "codemirror_mode": {
    "name": "ipython",
    "version": 3
   },
   "file_extension": ".py",
   "mimetype": "text/x-python",
   "name": "python",
   "nbconvert_exporter": "python",
   "pygments_lexer": "ipython3",
   "version": "3.8.13"
  },
  "vscode": {
   "interpreter": {
    "hash": "8adaea0cd583027a5b634f4d6ccd799684216a4819888a50ecfa92c454cbaa5c"
   }
  }
 },
 "nbformat": 4,
 "nbformat_minor": 4
}
